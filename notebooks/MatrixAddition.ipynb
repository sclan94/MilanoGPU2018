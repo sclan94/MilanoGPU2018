{
 "cells": [
  {
   "cell_type": "markdown",
   "metadata": {},
   "source": [
    "# License\n",
    "\n",
    "    Jupyter notebook for accessing CUDA\n",
    "    Copyright (C) 2018 Andre.Brodtkorb@ifi.uio.no, changed in October by Simone Candeloro\n",
    "\n",
    "    This program is free software: you can redistribute it and/or modify\n",
    "    it under the terms of the GNU General Public License as published by\n",
    "    the Free Software Foundation, either version 3 of the License, or\n",
    "    (at your option) any later version.\n",
    "\n",
    "    This program is distributed in the hope that it will be useful,\n",
    "    but WITHOUT ANY WARRANTY; without even the implied warranty of\n",
    "    MERCHANTABILITY or FITNESS FOR A PARTICULAR PURPOSE.  See the\n",
    "    GNU General Public License for more details.\n",
    "\n",
    "    You should have received a copy of the GNU General Public License\n",
    "    along with this program.  If not, see <http://www.gnu.org/licenses/>."
   ]
  },
  {
   "cell_type": "code",
   "execution_count": 1,
   "metadata": {},
   "outputs": [],
   "source": [
    "#Lets have matplotlib \"inline\"\n",
    "%matplotlib inline\n",
    "\n",
    "#Import packages we need\n",
    "import numpy as np\n",
    "import pycuda.compiler as cuda_compiler\n",
    "from pycuda.gpuarray import GPUArray\n",
    "import pycuda.driver as cuda_driver\n",
    "\n",
    "from matplotlib import pyplot as plt"
   ]
  },
  {
   "cell_type": "code",
   "execution_count": 2,
   "metadata": {},
   "outputs": [],
   "source": [
    "#Initialize CUDA - must be first call to CUDA!\n",
    "cuda_driver.init()"
   ]
  },
  {
   "cell_type": "code",
   "execution_count": 3,
   "metadata": {},
   "outputs": [
    {
     "name": "stdout",
     "output_type": "stream",
     "text": [
      "Using 'Tesla K80'\n",
      " => compute capability: (3, 7)\n",
      " => memory: 9308 / 11441 MB available\n"
     ]
    }
   ],
   "source": [
    "#Create CUDA context\n",
    "cuda_device = cuda_driver.Device(0)\n",
    "print(\"Using '{:s}'\".format(cuda_device.name()))\n",
    "print(\" => compute capability: {:s}\".format(str(cuda_device.compute_capability())))\n",
    "context = cuda_device.make_context()\n",
    "free, total = cuda_driver.mem_get_info()\n",
    "print(\" => memory: {:d} / {:d} MB available\".format(int(free/(1024*1024)), int(total/(1024*1024))))"
   ]
  },
  {
   "cell_type": "code",
   "execution_count": 4,
   "metadata": {},
   "outputs": [],
   "source": [
    "cuda_kernel = \"\"\"\n",
    "__global__ void addVectorKernel(float* c, float* a, float* b) {\n",
    "    unsigned int i = blockIdx.x*blockDim.x + threadIdx.x;\n",
    "    c[i] = a[i] + b[i];\n",
    "}\n",
    "\n",
    "__global__ void addMatrixKernel(float* c, float* a, float* b, int cols) {\n",
    "    unsigned int i = blockIdx.x*blockDim.x + threadIdx.x;\n",
    "    unsigned int j = blockIdx.y*blockDim.y + threadIdx.y;\n",
    "    \n",
    "    //Pseudocode\n",
    "    //c[j][i] = a[j][i] + b[j][i]\n",
    "    unsigned int k = j*cols + i;\n",
    "    \n",
    "    c[k] = a[k] + b[k];    \n",
    "}\n",
    "\"\"\"\n",
    "module = cuda_compiler.SourceModule(cuda_kernel)\n",
    "kernel = module.get_function(\"addMatrixKernel\");"
   ]
  },
  {
   "cell_type": "code",
   "execution_count": 5,
   "metadata": {},
   "outputs": [
    {
     "data": {
      "image/png": "[encoded data removed]",
      "text/plain": [
       "<matplotlib.figure.Figure at 0x7f2b014fbf98>"
      ]
     },
     "metadata": {
      "needs_background": "light"
     },
     "output_type": "display_data"
    }
   ],
   "source": [
    "#Size of our test\n",
    "test_size = (16, 24)\n",
    "\n",
    "#Create test input / output data\n",
    "a = np.random.random(test_size).astype(np.float32)\n",
    "b = np.random.random(test_size).astype(np.float32)\n",
    "c = np.empty_like(a)\n",
    "\n",
    "fig = plt.figure(figsize=(12,8))\n",
    "plt.imshow(a)\n",
    "plt.colorbar()\n",
    "plt.show()"
   ]
  },
  {
   "cell_type": "code",
   "execution_count": 6,
   "metadata": {},
   "outputs": [
    {
     "name": "stdout",
     "output_type": "stream",
     "text": [
      "(16, 24)\n"
     ]
    }
   ],
   "source": [
    "print(a.shape)"
   ]
  },
  {
   "cell_type": "code",
   "execution_count": 7,
   "metadata": {},
   "outputs": [],
   "source": [
    "#Upload data to the device\n",
    "a_g = GPUArray(a.shape, np.float32)\n",
    "b_g = GPUArray(b.shape, np.float32)\n",
    "a_g.set(a)\n",
    "b_g.set(b)"
   ]
  },
  {
   "cell_type": "code",
   "execution_count": 8,
   "metadata": {},
   "outputs": [],
   "source": [
    "#Allocate output data\n",
    "c_g = GPUArray(c.shape, np.float32)"
   ]
  },
  {
   "cell_type": "code",
   "execution_count": 19,
   "metadata": {},
   "outputs": [
    {
     "name": "stdout",
     "output_type": "stream",
     "text": [
      "Domain_size is (24, 16)\n",
      "Block_size is (8, 4, 1)\n",
      "Grid_size is (3, 4, 1)\n"
     ]
    }
   ],
   "source": [
    "# a.shape = [rows, columns] => [y index, x index]\n",
    "domain_size = (a.shape[1], a.shape[0]) # Now domain size is [x, y]\n",
    "block_size = (8, 4, 1) # These need to be x, y, z!\n",
    "grid_size = (domain_size[0] // block_size[0], domain_size[1] // block_size[1], 1)\n",
    "\n",
    "print(\"Domain_size is \" + str(domain_size))\n",
    "print(\"Block_size is \" + str(block_size))\n",
    "print(\"Grid_size is \" + str(grid_size))"
   ]
  },
  {
   "cell_type": "code",
   "execution_count": 22,
   "metadata": {},
   "outputs": [
    {
     "data": {
      "text/plain": [
       "array([[1.7460958 , 1.6144724 , 0.8576971 , 1.7668974 , 0.77150077,\n",
       "        1.4159063 , 0.42146766, 0.8881496 , 1.4079072 , 0.99683285,\n",
       "        0.76192   , 0.7109317 , 0.52480376, 1.4797752 , 0.6978142 ,\n",
       "        0.40132838, 0.62402636, 0.36880797, 1.560997  , 0.5528035 ,\n",
       "        1.0593493 , 0.58976334, 0.98658293, 1.0664569 ],\n",
       "       [1.0160726 , 1.1655188 , 1.2343342 , 1.0834776 , 0.8245543 ,\n",
       "        0.7593875 , 0.87686336, 1.1596818 , 0.96647465, 0.63298655,\n",
       "        0.67284125, 0.6038208 , 0.44597203, 1.6013865 , 1.230902  ,\n",
       "        0.77995104, 1.1525937 , 0.9186778 , 1.3763828 , 1.6056861 ,\n",
       "        0.5836307 , 1.3811679 , 0.4436378 , 1.3240609 ],\n",
       "       [1.4158343 , 1.0218375 , 0.485654  , 1.4258468 , 0.6561454 ,\n",
       "        1.2123048 , 1.7212734 , 1.511625  , 1.5435398 , 0.15404904,\n",
       "        0.57045305, 1.1625159 , 0.88734436, 1.4053425 , 1.6890285 ,\n",
       "        0.75916517, 1.4461966 , 1.5771526 , 1.0512497 , 1.1776524 ,\n",
       "        0.42977417, 0.81484765, 1.1814458 , 0.6721314 ],\n",
       "       [0.6449983 , 1.6624213 , 1.1208797 , 0.8145385 , 0.6036828 ,\n",
       "        1.8574686 , 0.6164267 , 1.0443908 , 0.8680845 , 1.1616685 ,\n",
       "        1.0418756 , 1.8263037 , 0.9914553 , 0.59431994, 1.5876617 ,\n",
       "        1.4471567 , 1.4465454 , 1.1691017 , 1.7368463 , 0.4441097 ,\n",
       "        1.6700695 , 1.1930728 , 1.218525  , 1.2187213 ],\n",
       "       [1.4789736 , 0.95195043, 1.2779189 , 1.2008424 , 1.0418669 ,\n",
       "        1.6477995 , 0.56153256, 1.1735716 , 0.6447126 , 1.2291646 ,\n",
       "        0.24263152, 1.3309336 , 1.1015673 , 0.71256846, 0.5514342 ,\n",
       "        1.009738  , 1.0864114 , 0.81157875, 1.1892657 , 0.63801765,\n",
       "        0.9407898 , 1.1848044 , 1.4157857 , 0.19290222],\n",
       "       [0.27021593, 0.84359396, 0.34041363, 0.6684023 , 1.1231157 ,\n",
       "        1.0824716 , 1.3653291 , 1.355238  , 0.79611725, 1.2096641 ,\n",
       "        0.51388186, 0.63656914, 0.6448759 , 0.8539704 , 0.9451394 ,\n",
       "        0.8563757 , 1.1900624 , 1.5853829 , 1.301878  , 1.2111187 ,\n",
       "        1.0613041 , 1.4003208 , 0.6653997 , 0.07159391],\n",
       "       [0.8281584 , 1.3221483 , 0.5907388 , 0.786905  , 1.4834849 ,\n",
       "        1.1651087 , 0.73028016, 1.2625303 , 1.2630582 , 0.9657928 ,\n",
       "        0.91249764, 1.2866653 , 1.1761527 , 0.6053536 , 0.8990443 ,\n",
       "        1.9585772 , 1.7343222 , 1.1125596 , 0.42817104, 0.6796917 ,\n",
       "        0.39927742, 1.2435311 , 1.2917578 , 1.1604795 ],\n",
       "       [0.7146617 , 1.5700285 , 1.2344105 , 1.1223086 , 0.8009116 ,\n",
       "        1.4268957 , 1.8978151 , 1.0774384 , 1.451606  , 0.24641621,\n",
       "        1.0184561 , 0.56894857, 0.8538227 , 0.62671643, 0.98447216,\n",
       "        1.2977252 , 1.527807  , 0.9091418 , 1.0567873 , 1.3165883 ,\n",
       "        0.8458332 , 0.42303365, 0.916814  , 1.1351057 ],\n",
       "       [0.92673206, 1.5940877 , 0.85461724, 1.1067998 , 1.3674085 ,\n",
       "        1.1191275 , 0.92356163, 1.666934  , 0.64100695, 1.3212345 ,\n",
       "        1.1200573 , 1.1222872 , 0.4612798 , 0.9845485 , 0.52784234,\n",
       "        1.3535376 , 1.3605546 , 1.0196973 , 1.0904903 , 0.50008523,\n",
       "        0.7079849 , 1.2290797 , 1.3059546 , 1.5542433 ],\n",
       "       [0.8171462 , 0.8372502 , 0.34861827, 1.4261885 , 0.5587008 ,\n",
       "        1.0275695 , 0.19180946, 0.6935328 , 0.8532441 , 1.0891118 ,\n",
       "        1.2667388 , 1.5356576 , 1.3304852 , 1.2092596 , 0.79465276,\n",
       "        0.2593313 , 0.507738  , 0.51929337, 0.5530558 , 0.86845446,\n",
       "        0.78743476, 0.5660625 , 1.0849984 , 1.4924306 ],\n",
       "       [0.43685496, 1.2565899 , 1.1290797 , 1.2324662 , 0.62602156,\n",
       "        1.0123348 , 1.3346941 , 1.8945897 , 1.161735  , 0.9752902 ,\n",
       "        1.2744501 , 0.95683783, 1.3422452 , 1.4072347 , 0.4449264 ,\n",
       "        0.50231194, 0.583715  , 0.837921  , 0.61841416, 1.0791111 ,\n",
       "        0.6931956 , 1.1895604 , 1.2810879 , 0.42838854],\n",
       "       [1.5731599 , 0.9702162 , 1.3493469 , 0.41751376, 1.2137997 ,\n",
       "        0.63137966, 0.41361222, 0.7974853 , 1.2406822 , 0.74867785,\n",
       "        0.90748906, 0.9098837 , 1.2311431 , 1.5662699 , 1.4735096 ,\n",
       "        1.4280738 , 1.2630777 , 1.0360686 , 0.79191804, 1.4808611 ,\n",
       "        0.9275241 , 1.3327723 , 1.0335943 , 0.7517299 ],\n",
       "       [0.9571523 , 0.32678372, 1.11496   , 0.91663057, 0.85432744,\n",
       "        0.3133254 , 0.66591996, 1.2298005 , 0.77129835, 1.4791628 ,\n",
       "        1.4335909 , 1.3888754 , 0.7841153 , 1.4715903 , 1.7046216 ,\n",
       "        0.8773725 , 1.0271595 , 0.83228993, 0.62877136, 1.2450492 ,\n",
       "        0.8244466 , 1.051207  , 1.3390528 , 1.2099681 ],\n",
       "       [0.80215704, 0.7551363 , 0.45501086, 0.63173807, 1.4939135 ,\n",
       "        0.6778023 , 1.8522348 , 1.0689754 , 0.2041184 , 0.48614585,\n",
       "        1.2323434 , 1.2613677 , 1.1222756 , 1.1028597 , 1.2022812 ,\n",
       "        1.4213829 , 1.1944779 , 1.0258411 , 0.13245137, 0.24517927,\n",
       "        1.6034613 , 1.0076795 , 0.72854275, 1.3198675 ],\n",
       "       [0.24047655, 1.1376677 , 1.8582572 , 0.9746871 , 0.67225844,\n",
       "        1.2301619 , 1.1133643 , 0.88909125, 0.67917705, 0.9964634 ,\n",
       "        1.5023427 , 0.17310943, 1.2835952 , 1.4965932 , 1.2818406 ,\n",
       "        1.2573464 , 1.3461806 , 1.0466678 , 1.7524965 , 0.9217111 ,\n",
       "        1.1319934 , 1.1100358 , 0.63252   , 0.8560208 ],\n",
       "       [0.87549007, 1.7437849 , 0.45546198, 0.4818253 , 1.8953403 ,\n",
       "        1.1458576 , 1.1895005 , 1.5506356 , 0.7433127 , 1.3831308 ,\n",
       "        1.1723752 , 1.5945623 , 0.8310429 , 1.0014522 , 0.6461922 ,\n",
       "        0.5386324 , 0.9599265 , 1.0526468 , 0.9060145 , 0.71332   ,\n",
       "        1.0071129 , 1.2175908 , 1.6733451 , 1.4585837 ]], dtype=float32)"
      ]
     },
     "execution_count": 22,
     "metadata": {},
     "output_type": "execute_result"
    }
   ],
   "source": [
    "#Execute program on device\n",
    "kernel(c_g, a_g, b_g, np.int32(domain_size[0]), block=block_size, grid=grid_size)\n",
    "\n",
    "#Copy data from device to host\n",
    "c_g.get(c)"
   ]
  },
  {
   "cell_type": "code",
   "execution_count": 23,
   "metadata": {},
   "outputs": [
    {
     "name": "stdout",
     "output_type": "stream",
     "text": [
      "C   =  [[1.7460958  1.6144724  0.8576971  1.7668974  0.77150077 1.4159063\n",
      "  0.42146766 0.8881496  1.4079072  0.99683285 0.76192    0.7109317\n",
      "  0.52480376 1.4797752  0.6978142  0.40132838 0.62402636 0.36880797\n",
      "  1.560997   0.5528035  1.0593493  0.58976334 0.98658293 1.0664569 ]\n",
      " [1.0160726  1.1655188  1.2343342  1.0834776  0.8245543  0.7593875\n",
      "  0.87686336 1.1596818  0.96647465 0.63298655 0.67284125 0.6038208\n",
      "  0.44597203 1.6013865  1.230902   0.77995104 1.1525937  0.9186778\n",
      "  1.3763828  1.6056861  0.5836307  1.3811679  0.4436378  1.3240609 ]\n",
      " [1.4158343  1.0218375  0.485654   1.4258468  0.6561454  1.2123048\n",
      "  1.7212734  1.511625   1.5435398  0.15404904 0.57045305 1.1625159\n",
      "  0.88734436 1.4053425  1.6890285  0.75916517 1.4461966  1.5771526\n",
      "  1.0512497  1.1776524  0.42977417 0.81484765 1.1814458  0.6721314 ]\n",
      " [0.6449983  1.6624213  1.1208797  0.8145385  0.6036828  1.8574686\n",
      "  0.6164267  1.0443908  0.8680845  1.1616685  1.0418756  1.8263037\n",
      "  0.9914553  0.59431994 1.5876617  1.4471567  1.4465454  1.1691017\n",
      "  1.7368463  0.4441097  1.6700695  1.1930728  1.218525   1.2187213 ]\n",
      " [1.4789736  0.95195043 1.2779189  1.2008424  1.0418669  1.6477995\n",
      "  0.56153256 1.1735716  0.6447126  1.2291646  0.24263152 1.3309336\n",
      "  1.1015673  0.71256846 0.5514342  1.009738   1.0864114  0.81157875\n",
      "  1.1892657  0.63801765 0.9407898  1.1848044  1.4157857  0.19290222]\n",
      " [0.27021593 0.84359396 0.34041363 0.6684023  1.1231157  1.0824716\n",
      "  1.3653291  1.355238   0.79611725 1.2096641  0.51388186 0.63656914\n",
      "  0.6448759  0.8539704  0.9451394  0.8563757  1.1900624  1.5853829\n",
      "  1.301878   1.2111187  1.0613041  1.4003208  0.6653997  0.07159391]\n",
      " [0.8281584  1.3221483  0.5907388  0.786905   1.4834849  1.1651087\n",
      "  0.73028016 1.2625303  1.2630582  0.9657928  0.91249764 1.2866653\n",
      "  1.1761527  0.6053536  0.8990443  1.9585772  1.7343222  1.1125596\n",
      "  0.42817104 0.6796917  0.39927742 1.2435311  1.2917578  1.1604795 ]\n",
      " [0.7146617  1.5700285  1.2344105  1.1223086  0.8009116  1.4268957\n",
      "  1.8978151  1.0774384  1.451606   0.24641621 1.0184561  0.56894857\n",
      "  0.8538227  0.62671643 0.98447216 1.2977252  1.527807   0.9091418\n",
      "  1.0567873  1.3165883  0.8458332  0.42303365 0.916814   1.1351057 ]\n",
      " [0.92673206 1.5940877  0.85461724 1.1067998  1.3674085  1.1191275\n",
      "  0.92356163 1.666934   0.64100695 1.3212345  1.1200573  1.1222872\n",
      "  0.4612798  0.9845485  0.52784234 1.3535376  1.3605546  1.0196973\n",
      "  1.0904903  0.50008523 0.7079849  1.2290797  1.3059546  1.5542433 ]\n",
      " [0.8171462  0.8372502  0.34861827 1.4261885  0.5587008  1.0275695\n",
      "  0.19180946 0.6935328  0.8532441  1.0891118  1.2667388  1.5356576\n",
      "  1.3304852  1.2092596  0.79465276 0.2593313  0.507738   0.51929337\n",
      "  0.5530558  0.86845446 0.78743476 0.5660625  1.0849984  1.4924306 ]\n",
      " [0.43685496 1.2565899  1.1290797  1.2324662  0.62602156 1.0123348\n",
      "  1.3346941  1.8945897  1.161735   0.9752902  1.2744501  0.95683783\n",
      "  1.3422452  1.4072347  0.4449264  0.50231194 0.583715   0.837921\n",
      "  0.61841416 1.0791111  0.6931956  1.1895604  1.2810879  0.42838854]\n",
      " [1.5731599  0.9702162  1.3493469  0.41751376 1.2137997  0.63137966\n",
      "  0.41361222 0.7974853  1.2406822  0.74867785 0.90748906 0.9098837\n",
      "  1.2311431  1.5662699  1.4735096  1.4280738  1.2630777  1.0360686\n",
      "  0.79191804 1.4808611  0.9275241  1.3327723  1.0335943  0.7517299 ]\n",
      " [0.9571523  0.32678372 1.11496    0.91663057 0.85432744 0.3133254\n",
      "  0.66591996 1.2298005  0.77129835 1.4791628  1.4335909  1.3888754\n",
      "  0.7841153  1.4715903  1.7046216  0.8773725  1.0271595  0.83228993\n",
      "  0.62877136 1.2450492  0.8244466  1.051207   1.3390528  1.2099681 ]\n",
      " [0.80215704 0.7551363  0.45501086 0.63173807 1.4939135  0.6778023\n",
      "  1.8522348  1.0689754  0.2041184  0.48614585 1.2323434  1.2613677\n",
      "  1.1222756  1.1028597  1.2022812  1.4213829  1.1944779  1.0258411\n",
      "  0.13245137 0.24517927 1.6034613  1.0076795  0.72854275 1.3198675 ]\n",
      " [0.24047655 1.1376677  1.8582572  0.9746871  0.67225844 1.2301619\n",
      "  1.1133643  0.88909125 0.67917705 0.9964634  1.5023427  0.17310943\n",
      "  1.2835952  1.4965932  1.2818406  1.2573464  1.3461806  1.0466678\n",
      "  1.7524965  0.9217111  1.1319934  1.1100358  0.63252    0.8560208 ]\n",
      " [0.87549007 1.7437849  0.45546198 0.4818253  1.8953403  1.1458576\n",
      "  1.1895005  1.5506356  0.7433127  1.3831308  1.1723752  1.5945623\n",
      "  0.8310429  1.0014522  0.6461922  0.5386324  0.9599265  1.0526468\n",
      "  0.9060145  0.71332    1.0071129  1.2175908  1.6733451  1.4585837 ]]\n",
      "Ref =  [[1.7460958  1.6144724  0.8576971  1.7668974  0.77150077 1.4159063\n",
      "  0.42146766 0.8881496  1.4079072  0.99683285 0.76192    0.7109317\n",
      "  0.52480376 1.4797752  0.6978142  0.40132838 0.62402636 0.36880797\n",
      "  1.560997   0.5528035  1.0593493  0.58976334 0.98658293 1.0664569 ]\n",
      " [1.0160726  1.1655188  1.2343342  1.0834776  0.8245543  0.7593875\n",
      "  0.87686336 1.1596818  0.96647465 0.63298655 0.67284125 0.6038208\n",
      "  0.44597203 1.6013865  1.230902   0.77995104 1.1525937  0.9186778\n",
      "  1.3763828  1.6056861  0.5836307  1.3811679  0.4436378  1.3240609 ]\n",
      " [1.4158343  1.0218375  0.485654   1.4258468  0.6561454  1.2123048\n",
      "  1.7212734  1.511625   1.5435398  0.15404904 0.57045305 1.1625159\n",
      "  0.88734436 1.4053425  1.6890285  0.75916517 1.4461966  1.5771526\n",
      "  1.0512497  1.1776524  0.42977417 0.81484765 1.1814458  0.6721314 ]\n",
      " [0.6449983  1.6624213  1.1208797  0.8145385  0.6036828  1.8574686\n",
      "  0.6164267  1.0443908  0.8680845  1.1616685  1.0418756  1.8263037\n",
      "  0.9914553  0.59431994 1.5876617  1.4471567  1.4465454  1.1691017\n",
      "  1.7368463  0.4441097  1.6700695  1.1930728  1.218525   1.2187213 ]\n",
      " [1.4789736  0.95195043 1.2779189  1.2008424  1.0418669  1.6477995\n",
      "  0.56153256 1.1735716  0.6447126  1.2291646  0.24263152 1.3309336\n",
      "  1.1015673  0.71256846 0.5514342  1.009738   1.0864114  0.81157875\n",
      "  1.1892657  0.63801765 0.9407898  1.1848044  1.4157857  0.19290222]\n",
      " [0.27021593 0.84359396 0.34041363 0.6684023  1.1231157  1.0824716\n",
      "  1.3653291  1.355238   0.79611725 1.2096641  0.51388186 0.63656914\n",
      "  0.6448759  0.8539704  0.9451394  0.8563757  1.1900624  1.5853829\n",
      "  1.301878   1.2111187  1.0613041  1.4003208  0.6653997  0.07159391]\n",
      " [0.8281584  1.3221483  0.5907388  0.786905   1.4834849  1.1651087\n",
      "  0.73028016 1.2625303  1.2630582  0.9657928  0.91249764 1.2866653\n",
      "  1.1761527  0.6053536  0.8990443  1.9585772  1.7343222  1.1125596\n",
      "  0.42817104 0.6796917  0.39927742 1.2435311  1.2917578  1.1604795 ]\n",
      " [0.7146617  1.5700285  1.2344105  1.1223086  0.8009116  1.4268957\n",
      "  1.8978151  1.0774384  1.451606   0.24641621 1.0184561  0.56894857\n",
      "  0.8538227  0.62671643 0.98447216 1.2977252  1.527807   0.9091418\n",
      "  1.0567873  1.3165883  0.8458332  0.42303365 0.916814   1.1351057 ]\n",
      " [0.92673206 1.5940877  0.85461724 1.1067998  1.3674085  1.1191275\n",
      "  0.92356163 1.666934   0.64100695 1.3212345  1.1200573  1.1222872\n",
      "  0.4612798  0.9845485  0.52784234 1.3535376  1.3605546  1.0196973\n",
      "  1.0904903  0.50008523 0.7079849  1.2290797  1.3059546  1.5542433 ]\n",
      " [0.8171462  0.8372502  0.34861827 1.4261885  0.5587008  1.0275695\n",
      "  0.19180946 0.6935328  0.8532441  1.0891118  1.2667388  1.5356576\n",
      "  1.3304852  1.2092596  0.79465276 0.2593313  0.507738   0.51929337\n",
      "  0.5530558  0.86845446 0.78743476 0.5660625  1.0849984  1.4924306 ]\n",
      " [0.43685496 1.2565899  1.1290797  1.2324662  0.62602156 1.0123348\n",
      "  1.3346941  1.8945897  1.161735   0.9752902  1.2744501  0.95683783\n",
      "  1.3422452  1.4072347  0.4449264  0.50231194 0.583715   0.837921\n",
      "  0.61841416 1.0791111  0.6931956  1.1895604  1.2810879  0.42838854]\n",
      " [1.5731599  0.9702162  1.3493469  0.41751376 1.2137997  0.63137966\n",
      "  0.41361222 0.7974853  1.2406822  0.74867785 0.90748906 0.9098837\n",
      "  1.2311431  1.5662699  1.4735096  1.4280738  1.2630777  1.0360686\n",
      "  0.79191804 1.4808611  0.9275241  1.3327723  1.0335943  0.7517299 ]\n",
      " [0.9571523  0.32678372 1.11496    0.91663057 0.85432744 0.3133254\n",
      "  0.66591996 1.2298005  0.77129835 1.4791628  1.4335909  1.3888754\n",
      "  0.7841153  1.4715903  1.7046216  0.8773725  1.0271595  0.83228993\n",
      "  0.62877136 1.2450492  0.8244466  1.051207   1.3390528  1.2099681 ]\n",
      " [0.80215704 0.7551363  0.45501086 0.63173807 1.4939135  0.6778023\n",
      "  1.8522348  1.0689754  0.2041184  0.48614585 1.2323434  1.2613677\n",
      "  1.1222756  1.1028597  1.2022812  1.4213829  1.1944779  1.0258411\n",
      "  0.13245137 0.24517927 1.6034613  1.0076795  0.72854275 1.3198675 ]\n",
      " [0.24047655 1.1376677  1.8582572  0.9746871  0.67225844 1.2301619\n",
      "  1.1133643  0.88909125 0.67917705 0.9964634  1.5023427  0.17310943\n",
      "  1.2835952  1.4965932  1.2818406  1.2573464  1.3461806  1.0466678\n",
      "  1.7524965  0.9217111  1.1319934  1.1100358  0.63252    0.8560208 ]\n",
      " [0.87549007 1.7437849  0.45546198 0.4818253  1.8953403  1.1458576\n",
      "  1.1895005  1.5506356  0.7433127  1.3831308  1.1723752  1.5945623\n",
      "  0.8310429  1.0014522  0.6461922  0.5386324  0.9599265  1.0526468\n",
      "  0.9060145  0.71332    1.0071129  1.2175908  1.6733451  1.4585837 ]]\n",
      "Sad =  0.0\n"
     ]
    }
   ],
   "source": [
    "#Compute reference using Numpy\n",
    "c_ref = a + b\n",
    "\n",
    "#Print result\n",
    "print(\"C   = \", c)\n",
    "print(\"Ref = \", c_ref)\n",
    "print(\"Sad = \", np.sum(np.abs(c - c_ref)))"
   ]
  },
  {
   "cell_type": "code",
   "execution_count": 26,
   "metadata": {},
   "outputs": [
    {
     "data": {
      "text/plain": [
       "<matplotlib.image.AxesImage at 0x7f2b00fe3c50>"
      ]
     },
     "execution_count": 26,
     "metadata": {},
     "output_type": "execute_result"
    },
    {
     "data": {
      "image/png": "[encoded data removed]",
      "text/plain": [
       "<matplotlib.figure.Figure at 0x7f2b0130c198>"
      ]
     },
     "metadata": {
      "needs_background": "light"
     },
     "output_type": "display_data"
    }
   ],
   "source": [
    "fig = plt.figure(figsize=(12,8))\n",
    "plt.subplot(1,2,1)\n",
    "plt.imshow(c)\n",
    "plt.subplot(1,2,2)\n",
    "plt.imshow(c_ref)"
   ]
  },
  {
   "cell_type": "code",
   "execution_count": null,
   "metadata": {},
   "outputs": [],
   "source": []
  }
 ],
 "metadata": {
  "kernelspec": {
   "display_name": "Python 3",
   "language": "python",
   "name": "python3"
  },
  "language_info": {
   "codemirror_mode": {
    "name": "ipython",
    "version": 3
   },
   "file_extension": ".py",
   "mimetype": "text/x-python",
   "name": "python",
   "nbconvert_exporter": "python",
   "pygments_lexer": "ipython3",
   "version": "3.6.6"
  }
 },
 "nbformat": 4,
 "nbformat_minor": 2
}

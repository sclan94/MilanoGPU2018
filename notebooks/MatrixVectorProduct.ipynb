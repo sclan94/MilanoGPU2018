{
 "cells": [
  {
   "cell_type": "markdown",
   "metadata": {},
   "source": [
    "# License\n",
    "\n",
    "    Jupyter notebook for accessing CUDA\n",
    "    Copyright (C) 2018 Andre.Brodtkorb@ifi.uio.no, changed in October by Simone Candeloro\n",
    "\n",
    "    This program is free software: you can redistribute it and/or modify\n",
    "    it under the terms of the GNU General Public License as published by\n",
    "    the Free Software Foundation, either version 3 of the License, or\n",
    "    (at your option) any later version.\n",
    "\n",
    "    This program is distributed in the hope that it will be useful,\n",
    "    but WITHOUT ANY WARRANTY; without even the implied warranty of\n",
    "    MERCHANTABILITY or FITNESS FOR A PARTICULAR PURPOSE.  See the\n",
    "    GNU General Public License for more details.\n",
    "\n",
    "    You should have received a copy of the GNU General Public License\n",
    "    along with this program.  If not, see <http://www.gnu.org/licenses/>."
   ]
  },
  {
   "cell_type": "code",
   "execution_count": 1,
   "metadata": {},
   "outputs": [],
   "source": [
    "#Lets have matplotlib \"inline\"\n",
    "%matplotlib inline\n",
    "\n",
    "#Import packages we need\n",
    "import numpy as np\n",
    "import pycuda.compiler as cuda_compiler\n",
    "from pycuda.gpuarray import GPUArray\n",
    "import pycuda.driver as cuda_driver\n",
    "\n",
    "from matplotlib import pyplot as plt"
   ]
  },
  {
   "cell_type": "code",
   "execution_count": 2,
   "metadata": {},
   "outputs": [],
   "source": [
    "#Initialize CUDA - must be first call to CUDA!\n",
    "cuda_driver.init()"
   ]
  },
  {
   "cell_type": "code",
   "execution_count": 3,
   "metadata": {},
   "outputs": [
    {
     "name": "stdout",
     "output_type": "stream",
     "text": [
      "Using 'Tesla K80'\n",
      " => compute capability: (3, 7)\n",
      " => memory: 9911 / 11441 MB available\n"
     ]
    }
   ],
   "source": [
    "#Create CUDA context\n",
    "cuda_device = cuda_driver.Device(0)\n",
    "print(\"Using '{:s}'\".format(cuda_device.name()))\n",
    "print(\" => compute capability: {:s}\".format(str(cuda_device.compute_capability())))\n",
    "context = cuda_device.make_context()\n",
    "free, total = cuda_driver.mem_get_info()\n",
    "print(\" => memory: {:d} / {:d} MB available\".format(int(free/(1024*1024)), int(total/(1024*1024))))"
   ]
  },
  {
   "cell_type": "code",
   "execution_count": 7,
   "metadata": {},
   "outputs": [],
   "source": [
    "cuda_kernel = \"\"\"\n",
    "__global__ void addVectorKernel(float* c, float* a, float* b) {\n",
    "    unsigned int i = blockIdx.x*blockDim.x + threadIdx.x;\n",
    "    c[i] = a[i] + b[i];\n",
    "}\n",
    "\n",
    "__global__ void addMatrixKernel(float* c, float* a, float* b, int cols) {\n",
    "    unsigned int i = blockIdx.x*blockDim.x + threadIdx.x;\n",
    "    unsigned int j = blockIdx.y*blockDim.y + threadIdx.y;\n",
    "    \n",
    "    //Pseudocode\n",
    "    //c[j][i] = a[j][i] + b[j][i]\n",
    "    unsigned int k = j*cols + i;\n",
    "    \n",
    "    c[k] = a[k] + b[k];   \n",
    "}\n",
    "    \n",
    "//NOTES: we need to implement the function matrixVectorKernel\n",
    "\n",
    "__global__ void matrixVectorKernel(float* c, float* A, float* b, int a_rows, int a_cols) {\n",
    "    //NOTE: write for loop that computes the vector-vector inner product\n",
    "    //      of row j of A by our vector b, then store the result in vector c[j]\n",
    "    \n",
    "    // i index is always zero! we don't need to compute it!       \n",
    "    unsigned int j = blockIdx.y*blockDim.y + threadIdx.y;\n",
    "    \n",
    "    float sum = 0.0f;\n",
    "    \n",
    "    for (int i = 0; i < a_cols; ++i){\n",
    "        unsigned int k = j*a_cols + i;\n",
    "        sum += A[k] * b[i];\n",
    "    }\n",
    "    // it's better to to this way rather than assigning directly \"c[j] += A[k] * b[i]\" because c[j] is in the global memory, thus it would be\n",
    "    // very costly\n",
    "    c[j] = sum;\n",
    "}\n",
    "\"\"\"\n",
    "module = cuda_compiler.SourceModule(cuda_kernel)\n",
    "kernel = module.get_function(\"matrixVectorKernel\");"
   ]
  },
  {
   "cell_type": "code",
   "execution_count": 18,
   "metadata": {},
   "outputs": [
    {
     "data": {
      "image/png": "[encoded data removed]",
      "text/plain": [
       "<matplotlib.figure.Figure at 0x7f2e0652f2e8>"
      ]
     },
     "metadata": {
      "needs_background": "light"
     },
     "output_type": "display_data"
    }
   ],
   "source": [
    "#Size of our test\n",
    "test_size = (4, 3)\n",
    "\n",
    "#Create test input / output data\n",
    "a = np.random.random(test_size).astype(np.float32)\n",
    "b = np.random.random((test_size[1],1)).astype(np.float32)\n",
    "c = np.empty((test_size[0],1), dtype = np.float32)\n",
    "\n",
    "fig = plt.figure(figsize=(12,8))\n",
    "plt.subplot(1,3,1)\n",
    "plt.imshow(a)\n",
    "plt.subplot(1,3,2)\n",
    "plt.imshow(b)\n",
    "plt.subplot(1,3,3)\n",
    "plt.imshow(c)\n",
    "plt.colorbar()\n",
    "plt.show()"
   ]
  },
  {
   "cell_type": "code",
   "execution_count": 21,
   "metadata": {},
   "outputs": [
    {
     "name": "stdout",
     "output_type": "stream",
     "text": [
      "(4, 3)\n",
      "(3, 1)\n",
      "(4, 1)\n"
     ]
    }
   ],
   "source": [
    "print(a.shape)\n",
    "print(b.shape)\n",
    "print(c.shape)"
   ]
  },
  {
   "cell_type": "code",
   "execution_count": 22,
   "metadata": {},
   "outputs": [],
   "source": [
    "#Upload data to the device\n",
    "#NOTES: we need to make sure that a = (a_rows, a_columns), b = (a_columns, 1) [it's a column vector!], c = (a_rows, 1) [column vector too!]\n",
    "a_g = GPUArray(a.shape, np.float32)\n",
    "b_g = GPUArray(b.shape, np.float32)\n",
    "a_g.set(a)\n",
    "b_g.set(b)"
   ]
  },
  {
   "cell_type": "code",
   "execution_count": 23,
   "metadata": {},
   "outputs": [],
   "source": [
    "#Allocate output data\n",
    "c_g = GPUArray(c.shape, np.float32)"
   ]
  },
  {
   "cell_type": "code",
   "execution_count": 24,
   "metadata": {},
   "outputs": [
    {
     "name": "stdout",
     "output_type": "stream",
     "text": [
      "Domain_size is (3, 4)\n",
      "Block_size is (1, 1, 1)\n",
      "Grid_size is (1, 4, 1)\n"
     ]
    }
   ],
   "source": [
    "# a.shape = [rows, columns] => [y index, x index]\n",
    "domain_size = (a.shape[1], a.shape[0]) # Now domain size is [x, y]\n",
    "\n",
    "#NOTES: we need to change this in order that grid*block is: x = 1, y = number of rows in A\n",
    "block_size = (1, 1, 1) # These need to be x, y, z!\n",
    "grid_size = (1, c.shape[0], 1)\n",
    "\n",
    "print(\"Domain_size is \" + str(domain_size))\n",
    "print(\"Block_size is \" + str(block_size))\n",
    "print(\"Grid_size is \" + str(grid_size))"
   ]
  },
  {
   "cell_type": "code",
   "execution_count": 25,
   "metadata": {},
   "outputs": [
    {
     "data": {
      "text/plain": [
       "array([[0.47546875],\n",
       "       [0.41928452],\n",
       "       [0.25429553],\n",
       "       [0.3445368 ]], dtype=float32)"
      ]
     },
     "execution_count": 25,
     "metadata": {},
     "output_type": "execute_result"
    }
   ],
   "source": [
    "#Execute program on device\n",
    "kernel(c_g, a_g, b_g, np.int32(a.shape[0]), np.int32(a.shape[1]), block=block_size, grid=grid_size)\n",
    "\n",
    "#Copy data from device to host\n",
    "c_g.get(c)"
   ]
  },
  {
   "cell_type": "code",
   "execution_count": 26,
   "metadata": {},
   "outputs": [
    {
     "name": "stdout",
     "output_type": "stream",
     "text": [
      "C   =  [[0.47546875]\n",
      " [0.41928452]\n",
      " [0.25429553]\n",
      " [0.3445368 ]]\n",
      "Ref =  [[0.47546878]\n",
      " [0.41928452]\n",
      " [0.25429553]\n",
      " [0.3445368 ]]\n",
      "Sad =  2.9802322e-08\n"
     ]
    }
   ],
   "source": [
    "#Compute reference using Numpy\n",
    "c_ref = np.dot(a, b)\n",
    "\n",
    "#Print result\n",
    "print(\"C   = \", c)\n",
    "print(\"Ref = \", c_ref)\n",
    "print(\"Sad = \", np.sum(np.abs(c - c_ref)))"
   ]
  },
  {
   "cell_type": "code",
   "execution_count": 27,
   "metadata": {},
   "outputs": [
    {
     "data": {
      "text/plain": [
       "<matplotlib.image.AxesImage at 0x7f2e065ade10>"
      ]
     },
     "execution_count": 27,
     "metadata": {},
     "output_type": "execute_result"
    },
    {
     "data": {
      "image/png": "[encoded data removed]",
      "text/plain": [
       "<matplotlib.figure.Figure at 0x7f2e068c24e0>"
      ]
     },
     "metadata": {
      "needs_background": "light"
     },
     "output_type": "display_data"
    }
   ],
   "source": [
    "fig = plt.figure(figsize=(12,8))\n",
    "plt.subplot(1,2,1)\n",
    "plt.imshow(c)\n",
    "plt.subplot(1,2,2)\n",
    "plt.imshow(c_ref)"
   ]
  },
  {
   "cell_type": "code",
   "execution_count": null,
   "metadata": {},
   "outputs": [],
   "source": []
  }
 ],
 "metadata": {
  "kernelspec": {
   "display_name": "Python 3",
   "language": "python",
   "name": "python3"
  },
  "language_info": {
   "codemirror_mode": {
    "name": "ipython",
    "version": 3
   },
   "file_extension": ".py",
   "mimetype": "text/x-python",
   "name": "python",
   "nbconvert_exporter": "python",
   "pygments_lexer": "ipython3",
   "version": "3.6.6"
  }
 },
 "nbformat": 4,
 "nbformat_minor": 2
}
